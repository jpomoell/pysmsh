{
 "cells": [
  {
   "cell_type": "markdown",
   "id": "04e19566-fc73-4f70-8bc8-b73e4ef18b63",
   "metadata": {},
   "source": [
    "# *Vector field computed from a scalar potential*\n",
    "***"
   ]
  },
  {
   "cell_type": "markdown",
   "id": "1303cbf8-4886-4efc-ba94-8b97be91712a",
   "metadata": {},
   "source": [
    "In this example a vector field $\\mathbf{B}$ is computed from a scalar field $u$ as $\\mathbf{B} = \\nabla u$. "
   ]
  },
  {
   "cell_type": "code",
   "execution_count": null,
   "id": "1eb763b8-01a0-4560-b26a-eacb44e35641",
   "metadata": {},
   "outputs": [],
   "source": [
    "import matplotlib.pyplot as plt"
   ]
  },
  {
   "cell_type": "code",
   "execution_count": null,
   "id": "bc8eabdb-9b07-49a7-9834-bb51171a51bc",
   "metadata": {},
   "outputs": [],
   "source": [
    "import numpy as np\n",
    "import numba\n",
    "import numba.experimental.jitclass as jitclass"
   ]
  },
  {
   "cell_type": "code",
   "execution_count": null,
   "id": "8fc8123d-b517-42b0-9865-0f880a66f0e1",
   "metadata": {},
   "outputs": [],
   "source": [
    "import pysmsh"
   ]
  },
  {
   "cell_type": "markdown",
   "id": "7dba3eb2-e133-4722-9cea-6c0c93a9b785",
   "metadata": {},
   "source": [
    "Begin by defining a class that computes the scalar potential of a fictional magnetic point charge. \n",
    "The resulting magnetic field is a proper magnetic field (in terms of being divergence free) as long as the\n",
    "position of the charge is excluded from the considered domain."
   ]
  },
  {
   "cell_type": "code",
   "execution_count": null,
   "id": "59a29832-3d0d-43e9-bb29-a1792b6471ea",
   "metadata": {},
   "outputs": [],
   "source": [
    "@jitclass()\n",
    "class PointCharge:\n",
    "    \n",
    "    charge : numba.float64\n",
    "    origin : numba.float64[:]\n",
    "    \n",
    "    def __init__(self, charge=1.0, origin=(0, 0, 0)): \n",
    "        self.charge = charge\n",
    "        self.origin = np.asarray(origin, dtype=numba.float64)\n",
    "    \n",
    "    def value(self, x, y, z):\n",
    "        \n",
    "        x0, y0, z0 = self.origin\n",
    "        \n",
    "        return self.charge/np.sqrt((x - x0)**2 + (y - y0)**2 + (z - z0)**2) "
   ]
  },
  {
   "cell_type": "markdown",
   "id": "1b2b7e37-eba8-4fb7-89de-09fc05cc773e",
   "metadata": {},
   "source": [
    "Let's create a magnetic field configuration, a so-called bipole field, produced by two charges of opposite signs."
   ]
  },
  {
   "cell_type": "code",
   "execution_count": null,
   "id": "1197e203-933e-4615-ab12-13613e8aa764",
   "metadata": {},
   "outputs": [],
   "source": [
    "q1 = PointCharge(origin=(-1.0, 0.0, -0.2))\n",
    "q2 = PointCharge(origin=( 1.0, 0.0, -0.2), charge=-1.0)"
   ]
  },
  {
   "cell_type": "code",
   "execution_count": null,
   "id": "fbbf9ce7-e8ff-440c-a4ad-02bb96da5925",
   "metadata": {},
   "outputs": [],
   "source": [
    "@jitclass()\n",
    "class Bipole:\n",
    "\n",
    "    q1 : PointCharge\n",
    "    q2 : PointCharge\n",
    "    \n",
    "    def __init__(self, q1, q2):\n",
    "        self.q1 = q1\n",
    "        self.q2 = q2\n",
    "    \n",
    "    def compute(self, x, y, z):\n",
    "        return self.q1.value(x, y, z) + self.q2.value(x, y, z)"
   ]
  },
  {
   "cell_type": "markdown",
   "id": "9f9930ea-20af-4da3-bb59-18a077b7e6fc",
   "metadata": {},
   "source": [
    "Instantiate the class with the two created charges"
   ]
  },
  {
   "cell_type": "code",
   "execution_count": null,
   "id": "ed57c07b-ea1d-4f2a-aea9-5ff111bb16b4",
   "metadata": {},
   "outputs": [],
   "source": [
    "bipole = Bipole(q1, q2)"
   ]
  },
  {
   "cell_type": "code",
   "execution_count": null,
   "id": "86196ac5-6826-4a9c-958c-b99a6220f663",
   "metadata": {},
   "outputs": [],
   "source": []
  },
  {
   "cell_type": "markdown",
   "id": "bd5057dc-682c-4899-a1c7-1ae503c8e772",
   "metadata": {},
   "source": [
    "Create the grid coordinates for the region of interest"
   ]
  },
  {
   "cell_type": "code",
   "execution_count": null,
   "id": "a1d2c085-589b-4bb0-b0c8-53a693bcc533",
   "metadata": {},
   "outputs": [],
   "source": [
    "mesh = pysmsh.Mesh.Rectilinear({\"x\" : np.linspace(-2.0, 2.0, 128),\n",
    "                                \"y\" : np.linspace(-1.0, 1.0, 128),\n",
    "                                \"z\" : np.linspace( 0.0, 3.0, 128)}, \n",
    "                               num_ghost_cells=1)"
   ]
  },
  {
   "cell_type": "markdown",
   "id": "0fc10d73-ce6d-41e4-a660-388e13f63f6d",
   "metadata": {},
   "source": [
    "Now we create a scalar field that will hold the values of the scalar potential at the centers of the cells that constitute the mesh"
   ]
  },
  {
   "cell_type": "code",
   "execution_count": null,
   "id": "3a1175b1-24af-439a-9fd0-292f248b1232",
   "metadata": {},
   "outputs": [],
   "source": [
    "potential = pysmsh.Field.Scalar(mesh, \"cell_centered\")"
   ]
  },
  {
   "cell_type": "markdown",
   "id": "15b59b76-46aa-40ad-9e24-d4d7e81d9da4",
   "metadata": {},
   "source": [
    "To compute the values of the potential, we create a compute function that loops over the mesh coordinates"
   ]
  },
  {
   "cell_type": "code",
   "execution_count": null,
   "id": "71b34816-28ff-4a0c-880b-bd2e1aba2adb",
   "metadata": {},
   "outputs": [],
   "source": [
    "@numba.njit()\n",
    "def compute(compobj, field):\n",
    "    \n",
    "    xc, yc, zc = field.mesh.centers\n",
    "    \n",
    "    for i, x in enumerate(xc):\n",
    "        for j, y in enumerate(yc):\n",
    "            for k, z in enumerate(zc):\n",
    "                \n",
    "                field.data[i, j, k] = compobj.compute(x, y, z)"
   ]
  },
  {
   "cell_type": "code",
   "execution_count": null,
   "id": "a735df95-0c54-43f3-9960-f7c2a696cbef",
   "metadata": {},
   "outputs": [],
   "source": [
    "compute(bipole, potential)"
   ]
  },
  {
   "cell_type": "markdown",
   "id": "57afd222-6734-4c77-8324-87bd1336934a",
   "metadata": {},
   "source": [
    "We also need to create a field for the resulting vector field"
   ]
  },
  {
   "cell_type": "code",
   "execution_count": null,
   "id": "126d7112-532b-4a38-8afc-01da929e5c39",
   "metadata": {},
   "outputs": [],
   "source": [
    "magnetic_field = pysmsh.Field.Vector(mesh, \"face_staggered\")"
   ]
  },
  {
   "cell_type": "code",
   "execution_count": null,
   "id": "802b2a6a-7f0c-4a7c-92a8-f6d4f6a13c41",
   "metadata": {},
   "outputs": [],
   "source": []
  },
  {
   "cell_type": "code",
   "execution_count": null,
   "id": "d9e61a91-b1b9-49ef-abf3-ad0105dacd7c",
   "metadata": {},
   "outputs": [],
   "source": [
    "import pysmsh.difference.staggered"
   ]
  },
  {
   "cell_type": "code",
   "execution_count": null,
   "id": "6b14f343-0813-467e-a57a-5418a92ac119",
   "metadata": {},
   "outputs": [],
   "source": [
    "pysmsh.difference.staggered.gradient(potential, magnetic_field)"
   ]
  },
  {
   "cell_type": "code",
   "execution_count": null,
   "id": "74b384d0-7a28-4a82-935f-468dfbff0abb",
   "metadata": {},
   "outputs": [],
   "source": []
  },
  {
   "cell_type": "code",
   "execution_count": null,
   "id": "b486af50-9081-403f-bd09-f33acfa71a45",
   "metadata": {},
   "outputs": [],
   "source": [
    "fig, ax = plt.subplots(figsize=(10, 4))\n",
    "\n",
    "Bx, By, Bz = magnetic_field.data\n",
    "\n",
    "p = ax.pcolormesh(magnetic_field.mesh.edges.x,\n",
    "                  magnetic_field.mesh.edges.y,\n",
    "                  Bz[:, :, 2].T, \n",
    "                  cmap='bwr'\n",
    "                 )\n",
    "\n",
    "fig.colorbar(p, ax=ax)\n",
    "\n",
    "ax.set_aspect(\"equal\")"
   ]
  },
  {
   "cell_type": "code",
   "execution_count": null,
   "id": "a79b4a79-19c9-4740-b513-0edeafe3aab2",
   "metadata": {},
   "outputs": [],
   "source": []
  },
  {
   "cell_type": "code",
   "execution_count": null,
   "id": "4e9b9ed4-83c6-4c83-a8de-c3a1cfecd2b5",
   "metadata": {},
   "outputs": [],
   "source": [
    "divB = pysmsh.Field.Scalar(mesh, \"cell_centered\")"
   ]
  },
  {
   "cell_type": "code",
   "execution_count": null,
   "id": "98c63f06-a0c8-4c5f-9bc9-3053589767c5",
   "metadata": {},
   "outputs": [],
   "source": [
    "pysmsh.difference.staggered.divergence(magnetic_field, divB)"
   ]
  },
  {
   "cell_type": "code",
   "execution_count": null,
   "id": "2ec1ec85-9d7b-410c-a513-7a21a2f42f58",
   "metadata": {},
   "outputs": [],
   "source": []
  }
 ],
 "metadata": {
  "kernelspec": {
   "display_name": "Python 3 (ipykernel)",
   "language": "python",
   "name": "python3"
  },
  "language_info": {
   "codemirror_mode": {
    "name": "ipython",
    "version": 3
   },
   "file_extension": ".py",
   "mimetype": "text/x-python",
   "name": "python",
   "nbconvert_exporter": "python",
   "pygments_lexer": "ipython3",
   "version": "3.9.12"
  }
 },
 "nbformat": 4,
 "nbformat_minor": 5
}
